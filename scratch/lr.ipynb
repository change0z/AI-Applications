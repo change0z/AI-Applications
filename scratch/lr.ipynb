{
 "cells": [
  {
   "cell_type": "code",
   "execution_count": 1,
   "metadata": {},
   "outputs": [],
   "source": [
    "import numpy as np\n"
   ]
  },
  {
   "cell_type": "code",
   "execution_count": null,
   "metadata": {},
   "outputs": [],
   "source": [
    "def forward_LR(X_batch: np.ndarray,\n",
    "               y_batch: np.ndarray,\n",
    "               weights: dict[str, np.ndarray]) -> tuple[float, dict[str, np.ndarray]]:\n",
    "    '''\n",
    "    Forward Pass for Linear Regression.\n",
    "    '''\n",
    "\n",
    "    assert X_batch.shape[0] == y_batch.shape[0]\n",
    "\n",
    "    assert X_batch.shape[1] == weights['W'].shape[0]\n",
    "\n",
    "    N =  np.dot(X_batch, weights['W'])\n",
    "\n",
    "    P = N + weights['B']\n",
    "\n",
    "    loss = np.mean(np.power(y_batch - P, 2))\n",
    "\n",
    "    forward_info: dict[str, np.ndarry] = {}\n",
    "    forward_info['X'] = X_batch\n",
    "    forward_info['N'] = N\n",
    "    forward_info['P'] = P\n",
    "    forward_info['y'] = y_batch\n",
    "\n",
    "    return loss, forward_info"
   ]
  },
  {
   "cell_type": "code",
   "execution_count": null,
   "metadata": {},
   "outputs": [],
   "source": [
    "def loss_grad(forward_info: dict[str, np.ndarray],\n",
    "              weights: dict[str, np.ndarray]) -> dict[str, np.ndarray]:\n",
    "    \n",
    "    '''\n",
    "    Compute dldW and dl dB for the step-by-step linear regression model.\n",
    "    '''\n",
    "    batch_size =  forward_info['X'].shape[0]\n",
    "    dLdP = - 2 * (forward_info['y'] - forward_info['P'])\n",
    "    dPdN = np.ones_like(forward_info['N'])\n",
    "    dPdB = np.ones_like(weights['B'])\n",
    "    dLdN =  dLdP * dPdN\n",
    "    dNdW = np.transpose(forward_info['X'], (1, 0))\n",
    "\n",
    "    dLdW = np.dot(dNdW, dLdN)\n",
    "    dLdB = (dLdP, dPdB).sum(axis=0)\n",
    "\n",
    "    loss_grad: dict[str, np.ndarray] = {}\n",
    "    loss_grad['W'] = dLdW\n",
    "    loss_grad['B'] = dLdB\n",
    "\n",
    "    return loss_grad"
   ]
  }
 ],
 "metadata": {
  "kernelspec": {
   "display_name": "ML",
   "language": "python",
   "name": "python3"
  },
  "language_info": {
   "codemirror_mode": {
    "name": "ipython",
    "version": 3
   },
   "file_extension": ".py",
   "mimetype": "text/x-python",
   "name": "python",
   "nbconvert_exporter": "python",
   "pygments_lexer": "ipython3",
   "version": "3.11.3"
  }
 },
 "nbformat": 4,
 "nbformat_minor": 2
}
